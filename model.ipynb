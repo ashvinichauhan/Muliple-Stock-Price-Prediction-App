{
 "cells": [
  {
   "cell_type": "code",
   "execution_count": 2,
   "metadata": {},
   "outputs": [],
   "source": [
    "import numpy as np\n",
    "import pandas as pd\n",
    "import yfinance as yf\n",
    "from sklearn.preprocessing import MinMaxScaler\n",
    "from tensorflow.keras.models import Sequential\n",
    "from tensorflow.keras.layers import GRU, Dense, Dropout\n",
    "import streamlit as st"
   ]
  },
  {
   "cell_type": "code",
   "execution_count": 3,
   "metadata": {},
   "outputs": [],
   "source": [
    "# Function to load stock data\n",
    "def load_data(ticker, start_date='2010-01-01', end_date='2023-01-01'):\n",
    "    data = yf.download(ticker, start=start_date, end=end_date)\n",
    "    return data\n",
    "\n",
    "# Function to preprocess data\n",
    "def preprocess_data(data):\n",
    "    scaler = MinMaxScaler(feature_range=(0, 1))\n",
    "    data_scaled = scaler.fit_transform(data['Close'].values.reshape(-1, 1))\n",
    "    \n",
    "    # Define sequence length\n",
    "    sequence_length = 60\n",
    "    X, y = [], []\n",
    "\n",
    "    # Create sequences of length 60\n",
    "    for i in range(sequence_length, len(data_scaled)):\n",
    "        X.append(data_scaled[i-sequence_length:i, 0])\n",
    "        y.append(data_scaled[i, 0])\n",
    "\n",
    "    X, y = np.array(X), np.array(y)\n",
    "    X = np.reshape(X, (X.shape[0], X.shape[1], 1))\n",
    "    \n",
    "    # Split into training and test sets (80-20 split)\n",
    "    split = int(len(X) * 0.8)\n",
    "    X_train, y_train = X[:split], y[:split]\n",
    "    X_test, y_test = X[split:], y[split:]\n",
    "    \n",
    "    return X_train, y_train, X_test, y_test, scaler\n"
   ]
  },
  {
   "cell_type": "code",
   "execution_count": 4,
   "metadata": {},
   "outputs": [],
   "source": [
    "# Function to build the GRU model\n",
    "def build_model(input_shape):\n",
    "    model = Sequential()\n",
    "    model.add(GRU(units=50, return_sequences=True, input_shape=input_shape))\n",
    "    model.add(Dropout(0.2))\n",
    "    model.add(GRU(units=50, return_sequences=False))\n",
    "    model.add(Dropout(0.2))\n",
    "    model.add(Dense(units=1))  # Output layer\n",
    "    model.compile(optimizer='adam', loss='mean_squared_error')\n",
    "    return model"
   ]
  },
  {
   "cell_type": "code",
   "execution_count": 5,
   "metadata": {},
   "outputs": [],
   "source": [
    "# Function to train the model\n",
    "def train_model(model, X_train, y_train, epochs=20, batch_size=32):\n",
    "    model.fit(X_train, y_train, epochs=epochs, batch_size=batch_size, validation_split=0.1)\n",
    "    return model"
   ]
  },
  {
   "cell_type": "code",
   "execution_count": 6,
   "metadata": {},
   "outputs": [],
   "source": [
    "# Function to predict the next day price based on the most recent data\n",
    "def predict_next_day_price(model, data, scaler):\n",
    "    # Use the last 60 days for prediction\n",
    "    last_60_days = data['Close'].values[-60:].reshape(-1, 1)\n",
    "    last_60_days_scaled = scaler.transform(last_60_days)\n",
    "    X_predict = np.array([last_60_days_scaled])\n",
    "    X_predict = np.reshape(X_predict, (X_predict.shape[0], X_predict.shape[1], 1))\n",
    "\n",
    "    # Predict and inverse scale\n",
    "    predicted_price = model.predict(X_predict)\n",
    "    predicted_price = scaler.inverse_transform(predicted_price)\n",
    "    return predicted_price[0][0]\n"
   ]
  },
  {
   "cell_type": "code",
   "execution_count": null,
   "metadata": {},
   "outputs": [],
   "source": []
  }
 ],
 "metadata": {
  "kernelspec": {
   "display_name": "Python 3",
   "language": "python",
   "name": "python3"
  },
  "language_info": {
   "codemirror_mode": {
    "name": "ipython",
    "version": 3
   },
   "file_extension": ".py",
   "mimetype": "text/x-python",
   "name": "python",
   "nbconvert_exporter": "python",
   "pygments_lexer": "ipython3",
   "version": "3.10.0"
  }
 },
 "nbformat": 4,
 "nbformat_minor": 2
}
